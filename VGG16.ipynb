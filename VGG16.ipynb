{
  "cells": [
    {
      "cell_type": "code",
      "execution_count": null,
      "metadata": {
        "colab": {
          "base_uri": "https://localhost:8080/"
        },
        "id": "MWA0ZNX6KQX_",
        "outputId": "082e6b1b-5b1d-4945-e24d-9f72b82af486"
      },
      "outputs": [
        {
          "name": "stdout",
          "output_type": "stream",
          "text": [
            "Requirement already satisfied: torch in /usr/local/lib/python3.10/dist-packages (2.1.0+cu121)\n",
            "Requirement already satisfied: torchvision in /usr/local/lib/python3.10/dist-packages (0.16.0+cu121)\n",
            "Requirement already satisfied: filelock in /usr/local/lib/python3.10/dist-packages (from torch) (3.13.1)\n",
            "Requirement already satisfied: typing-extensions in /usr/local/lib/python3.10/dist-packages (from torch) (4.10.0)\n",
            "Requirement already satisfied: sympy in /usr/local/lib/python3.10/dist-packages (from torch) (1.12)\n",
            "Requirement already satisfied: networkx in /usr/local/lib/python3.10/dist-packages (from torch) (3.2.1)\n",
            "Requirement already satisfied: jinja2 in /usr/local/lib/python3.10/dist-packages (from torch) (3.1.3)\n",
            "Requirement already satisfied: fsspec in /usr/local/lib/python3.10/dist-packages (from torch) (2023.6.0)\n",
            "Requirement already satisfied: triton==2.1.0 in /usr/local/lib/python3.10/dist-packages (from torch) (2.1.0)\n",
            "Requirement already satisfied: numpy in /usr/local/lib/python3.10/dist-packages (from torchvision) (1.25.2)\n",
            "Requirement already satisfied: requests in /usr/local/lib/python3.10/dist-packages (from torchvision) (2.31.0)\n",
            "Requirement already satisfied: pillow!=8.3.*,>=5.3.0 in /usr/local/lib/python3.10/dist-packages (from torchvision) (9.4.0)\n",
            "Requirement already satisfied: MarkupSafe>=2.0 in /usr/local/lib/python3.10/dist-packages (from jinja2->torch) (2.1.5)\n",
            "Requirement already satisfied: charset-normalizer<4,>=2 in /usr/local/lib/python3.10/dist-packages (from requests->torchvision) (3.3.2)\n",
            "Requirement already satisfied: idna<4,>=2.5 in /usr/local/lib/python3.10/dist-packages (from requests->torchvision) (3.6)\n",
            "Requirement already satisfied: urllib3<3,>=1.21.1 in /usr/local/lib/python3.10/dist-packages (from requests->torchvision) (2.0.7)\n",
            "Requirement already satisfied: certifi>=2017.4.17 in /usr/local/lib/python3.10/dist-packages (from requests->torchvision) (2024.2.2)\n",
            "Requirement already satisfied: mpmath>=0.19 in /usr/local/lib/python3.10/dist-packages (from sympy->torch) (1.3.0)\n"
          ]
        }
      ],
      "source": [
        "!pip install torch torchvision\n"
      ]
    },
    {
      "cell_type": "code",
      "execution_count": null,
      "metadata": {
        "colab": {
          "base_uri": "https://localhost:8080/"
        },
        "id": "oASz7Kj6KlN6",
        "outputId": "3919fd0e-f6bc-47c2-b98b-51bda7ab437c"
      },
      "outputs": [
        {
          "name": "stdout",
          "output_type": "stream",
          "text": [
            "Downloading https://www.cs.toronto.edu/~kriz/cifar-100-python.tar.gz to ./data/cifar-100-python.tar.gz\n"
          ]
        },
        {
          "name": "stderr",
          "output_type": "stream",
          "text": [
            "100%|██████████| 169001437/169001437 [00:03<00:00, 42378832.88it/s]\n"
          ]
        },
        {
          "name": "stdout",
          "output_type": "stream",
          "text": [
            "Extracting ./data/cifar-100-python.tar.gz to ./data\n",
            "Files already downloaded and verified\n"
          ]
        }
      ],
      "source": [
        "import torchvision.transforms as transforms  # Importing the transforms module from torchvision for image transformations\n",
        "import torchvision.datasets as datasets  # Importing the datasets module from torchvision for dataset handling\n",
        "\n",
        "# converting image into pytorch tensor and normalizing it\n",
        "transform = transforms.Compose([\n",
        "    transforms.ToTensor(),\n",
        "    transforms.Normalize((0.5, 0.5, 0.5), (0.5, 0.5, 0.5))\n",
        "])\n",
        "# loading CIFAR100 dataset\n",
        "trainset = datasets.CIFAR100(root='./data', train=True, download=True, transform=transform)\n",
        "testset = datasets.CIFAR100(root='./data', train=False, download=True, transform=transform)"
      ]
    },
    {
      "cell_type": "code",
      "execution_count": null,
      "metadata": {
        "id": "v20id5mIQNcA"
      },
      "outputs": [],
      "source": [
        "# Importing the DataLoader class from the torch.utils.data module\n",
        "from torch.utils.data import DataLoader"
      ]
    },
    {
      "cell_type": "code",
      "execution_count": null,
      "metadata": {
        "id": "r22N3i58KneN"
      },
      "outputs": [],
      "source": [
        "#the number of samples to be processed in one forward and backward pass during training or evaluation\n",
        "batch_size = 64\n",
        "# Creating a data loader for the training set\n",
        "train_loader = DataLoader(trainset, batch_size=batch_size, shuffle=True)\n",
        "\n",
        "# Creating a data loader for the test set\n",
        "test_loader = DataLoader(testset, batch_size=batch_size, shuffle=False)"
      ]
    },
    {
      "cell_type": "code",
      "execution_count": null,
      "metadata": {
        "id": "0hZBuszmKp_R"
      },
      "outputs": [],
      "source": [
        "import torch.nn as nn  # Importing the neural network module from PyTorch\n",
        "\n",
        "# Defining a CNN class inheriting from nn.Module\n",
        "class CNN(nn.Module):\n",
        "    def __init__(self):\n",
        "        super(CNN, self).__init__()\n",
        "        # Calling the constructor of the parent class\n",
        "\n",
        "        # Defining the convolutional layers\n",
        "        self.conv1 = nn.Conv2d(3, 32, 3, 1)\n",
        "        # Input channels=3, output channels=32, kernel size=3x3, stride=1\n",
        "        self.conv2 = nn.Conv2d(32, 64, 3, 1)\n",
        "        # Input channels=32, output channels=64, kernel size=3x3, stride=1\n",
        "\n",
        "        # Defining the fully connected layers\n",
        "        self.fc1 = nn.Linear(64*6*6, 128)\n",
        "        # Input size=64*6*6, output size=128\n",
        "        self.fc2 = nn.Linear(128, 100)\n",
        "        # Input size=128, output size=100 (number of classes)\n",
        "\n",
        "    # Forward method defining the forward pass of the network\n",
        "    def forward(self, x):\n",
        "        # Applying the first convolutional layer followed by ReLU activation\n",
        "        x = F.relu(self.conv1(x))\n",
        "\n",
        "        # Performing max pooling with 2x2 kernel and stride 2\n",
        "        x = F.max_pool2d(x, 2, 2)\n",
        "\n",
        "        # Applying the second convolutional layer followed by ReLU activation\n",
        "        x = F.relu(self.conv2(x))\n",
        "\n",
        "        # Performing max pooling with 2x2 kernel and stride 2\n",
        "        x = F.max_pool2d(x, 2, 2)\n",
        "\n",
        "        # Reshaping the tensor to fit into the fully connected layers\n",
        "        x = x.view(-1, 64*6*6)\n",
        "\n",
        "        # Applying the first fully connected layer followed by ReLU activation\n",
        "        x = F.relu(self.fc1(x))\n",
        "\n",
        "        # Applying the second fully connected layer (output layer)\n",
        "        x = self.fc2(x)\n",
        "\n",
        "        # Applying log softmax activation to the output (for classification)\n",
        "        return F.log_softmax(x, dim=1)\n"
      ]
    },
    {
      "cell_type": "code",
      "execution_count": null,
      "metadata": {
        "id": "Z_TtYLTFKtGJ"
      },
      "outputs": [],
      "source": [
        "import torch.optim as optim\n",
        "# Importing the optimization module from PyTorch\n",
        "\n",
        "learning_rate = 0.001\n",
        " # Setting the learning rate for the optimizer\n",
        "batch_size = 64\n",
        "# Setting the batch size for training\n",
        "epochs = 10\n",
        " # Setting the number of epochs for training\n",
        "\n",
        "model = CNN()\n",
        "# Instantiating the CNN model\n",
        "criterion = nn.CrossEntropyLoss()\n",
        " # Defining the loss criterion (Cross Entropy Loss)\n",
        "optimizer = optim.Adam(model.parameters(), lr=learning_rate)\n",
        " # Defining the optimizer (Adam optimizer)\n"
      ]
    },
    {
      "cell_type": "code",
      "execution_count": null,
      "metadata": {
        "id": "FhhuzzJjKwLQ"
      },
      "outputs": [],
      "source": [
        "def train(model, train_loader, optimizer, criterion):\n",
        "    # Set the model to training mode\n",
        "    model.train()\n",
        "\n",
        "    # Initialize a variable to keep track of the running loss\n",
        "    running_loss = 0.0\n",
        "\n",
        "    # Iterate over the batches of training data\n",
        "    for batch_idx, (data, target) in enumerate(train_loader):\n",
        "        # Zero the gradients to avoid accumulation from previous iterations\n",
        "        optimizer.zero_grad()\n",
        "\n",
        "        # Forward pass: compute predicted outputs by passing inputs to the model\n",
        "        output = model(data)\n",
        "\n",
        "        # Calculate the loss between the predicted outputs and the actual targets\n",
        "        loss = criterion(output, target)\n",
        "\n",
        "        # Backpropagation: compute gradients of the loss with respect to model parameters\n",
        "        loss.backward()\n",
        "\n",
        "        # Update the model parameters based on the gradients computed during the backward pass\n",
        "        optimizer.step()\n",
        "\n",
        "        # Add the current batch's loss to the running loss\n",
        "        running_loss += loss.item()\n",
        "\n",
        "    # Calculate the average loss over all batches\n",
        "    # and return it as the training loss for this epoch\n",
        "    return running_loss / len(train_loader)\n"
      ]
    },
    {
      "cell_type": "code",
      "execution_count": null,
      "metadata": {
        "colab": {
          "base_uri": "https://localhost:8080/",
          "height": 623
        },
        "id": "UFTv13ZWKyaO",
        "outputId": "fba03378-d2e5-4b7f-c424-a1a926d1c7b7"
      },
      "outputs": [
        {
          "name": "stdout",
          "output_type": "stream",
          "text": [
            "Epoch: 1/10, Loss: 3.6384\n",
            "Epoch: 2/10, Loss: 2.9284\n",
            "Epoch: 3/10, Loss: 2.6355\n",
            "Epoch: 4/10, Loss: 2.4431\n",
            "Epoch: 5/10, Loss: 2.2999\n",
            "Epoch: 6/10, Loss: 2.1807\n",
            "Epoch: 7/10, Loss: 2.0788\n",
            "Epoch: 8/10, Loss: 1.9887\n",
            "Epoch: 9/10, Loss: 1.9090\n",
            "Epoch: 10/10, Loss: 1.8404\n"
          ]
        },
        {
          "data": {
            "image/png": "[encoded data removed]",
            "text/plain": [
              "<Figure size 640x480 with 1 Axes>"
            ]
          },
          "metadata": {},
          "output_type": "display_data"
        }
      ],
      "source": [
        "import torch.nn.functional as F\n",
        "import matplotlib.pyplot as plt\n",
        "\n",
        "# Initialize an empty list to store training losses for each epoch\n",
        "train_losses = []\n",
        "\n",
        "# Iterate over the specified number of epochs\n",
        "for epoch in range(epochs):\n",
        "    # Train the model for one epoch and get the training loss\n",
        "    train_loss = train(model, train_loader, optimizer, criterion)\n",
        "\n",
        "    # Append the training loss to the list of training losses\n",
        "    train_losses.append(train_loss)\n",
        "\n",
        "    # Print epoch number and training loss\n",
        "    print(f\"Epoch: {epoch+1}/{epochs}, Loss: {train_loss:.4f}\")\n",
        "\n",
        "# Plot the training losses over epochs\n",
        "plt.plot(train_losses, label='Training Loss')\n",
        "plt.xlabel('Epochs')\n",
        "plt.ylabel('Loss')\n",
        "plt.legend()\n",
        "plt.show()\n"
      ]
    },
    {
      "cell_type": "code",
      "execution_count": null,
      "metadata": {
        "colab": {
          "base_uri": "https://localhost:8080/"
        },
        "id": "qE64Rx5MK0tM",
        "outputId": "f4129d3d-2c9f-49b1-eb4a-0ad1a97ef1f3"
      },
      "outputs": [
        {
          "name": "stdout",
          "output_type": "stream",
          "text": [
            "Test set: Average loss: 0.0386, Accuracy: 38.97%\n"
          ]
        }
      ],
      "source": [
        "import torch\n",
        "\n",
        "def test(model, test_loader, criterion):\n",
        "    # Set the model to evaluation mode\n",
        "    model.eval()\n",
        "\n",
        "    # Initialize variables to keep track of test loss and correct predictions\n",
        "    test_loss = 0\n",
        "    correct = 0\n",
        "\n",
        "    # Disable gradient calculation since we are in evaluation mode\n",
        "    with torch.no_grad():\n",
        "        # Iterate over the test data loader\n",
        "        for data, target in test_loader:\n",
        "            # Forward pass: compute predicted outputs by passing inputs to the model\n",
        "            output = model(data)\n",
        "\n",
        "            # Compute the test loss using the provided criterion (e.g., CrossEntropyLoss)\n",
        "            test_loss += criterion(output, target).item()\n",
        "\n",
        "            # Get the index of the maximum value along the specified dimension (usually the class probabilities)\n",
        "            pred = output.argmax(dim=1, keepdim=True)\n",
        "\n",
        "            # Compare predictions to the true labels and sum up the correct predictions\n",
        "            correct += pred.eq(target.view_as(pred)).sum().item()\n",
        "\n",
        "    # Calculate the average test loss over the dataset\n",
        "    test_loss /= len(test_loader.dataset)\n",
        "\n",
        "    # Calculate the accuracy\n",
        "    accuracy = 100. * correct / len(test_loader.dataset)\n",
        "\n",
        "    # Print test set statistics: average loss and accuracy\n",
        "    print(f'Test set: Average loss: {test_loss:.4f}, Accuracy: {accuracy}%')\n",
        "\n",
        "# Call the test function with the model, test data loader, and criterion\n",
        "test(model, test_loader, criterion)\n"
      ]
    },
    {
      "cell_type": "code",
      "execution_count": null,
      "metadata": {
        "id": "QjuwfjGC1HtE"
      },
      "outputs": [],
      "source": [
        "import torch\n",
        "import torch.nn as nn\n",
        "\n",
        "class VGG16(nn.Module):\n",
        "    def __init__(self, num_classes=100):\n",
        "        super(VGG16, self).__init__()\n",
        "        # Define the convolutional layers of VGG16\n",
        "        self.features = nn.Sequential(\n",
        "            nn.Conv2d(3, 64, kernel_size=3, padding=1),\n",
        "            # 3 input channels, 64 output channels, 3x3 kernel size, padding 1\n",
        "            nn.ReLU(inplace=True),\n",
        "            # ReLU activation function\n",
        "            nn.Conv2d(64, 64, kernel_size=3, padding=1),\n",
        "            nn.ReLU(inplace=True),\n",
        "            nn.MaxPool2d(kernel_size=2, stride=2),\n",
        "            # Max pooling layer with 2x2 kernel and stride 2\n",
        "            nn.Conv2d(64, 128, kernel_size=3, padding=1),\n",
        "            nn.ReLU(inplace=True),\n",
        "            nn.Conv2d(128, 128, kernel_size=3, padding=1),\n",
        "            nn.ReLU(inplace=True),\n",
        "            nn.MaxPool2d(kernel_size=2, stride=2),\n",
        "            nn.Conv2d(128, 256, kernel_size=3, padding=1),\n",
        "            nn.ReLU(inplace=True),\n",
        "            nn.Conv2d(256, 256, kernel_size=3, padding=1),\n",
        "            nn.ReLU(inplace=True),\n",
        "            nn.Conv2d(256, 256, kernel_size=3, padding=1),\n",
        "            nn.ReLU(inplace=True),\n",
        "            nn.MaxPool2d(kernel_size=2, stride=2),\n",
        "            nn.Conv2d(256, 512, kernel_size=3, padding=1),\n",
        "            nn.ReLU(inplace=True),\n",
        "            nn.Conv2d(512, 512, kernel_size=3, padding=1),\n",
        "            nn.ReLU(inplace=True),\n",
        "            nn.Conv2d(512, 512, kernel_size=3, padding=1),\n",
        "            nn.ReLU(inplace=True),\n",
        "            nn.MaxPool2d(kernel_size=2, stride=2),\n",
        "            nn.Conv2d(512, 512, kernel_size=3, padding=1),\n",
        "            nn.ReLU(inplace=True),\n",
        "            nn.Conv2d(512, 512, kernel_size=3, padding=1),\n",
        "            nn.ReLU(inplace=True),\n",
        "            nn.Conv2d(512, 512, kernel_size=3, padding=1),\n",
        "            nn.ReLU(inplace=True),\n",
        "            nn.MaxPool2d(kernel_size=2, stride=2),\n",
        "        )\n",
        "        # Adaptive average pooling layer to convert any input size to a fixed output size\n",
        "        self.avgpool = nn.AdaptiveAvgPool2d((7, 7))\n",
        "        # Define the fully connected layers (classifier) of VGG16\n",
        "        self.classifier = nn.Sequential(\n",
        "            nn.Linear(512 * 7 * 7, 4096),\n",
        "            # Fully connected layer with 512*7*7 input features and 4096 output features\n",
        "            nn.ReLU(inplace=True),\n",
        "            nn.Dropout(),\n",
        "            # Dropout layer to prevent overfitting\n",
        "            nn.Linear(4096, 4096),\n",
        "            # Fully connected layer with 4096 input features and 4096 output features\n",
        "            nn.ReLU(inplace=True),\n",
        "            nn.Dropout(),\n",
        "            # Dropout layer to prevent overfitting\n",
        "            nn.Linear(4096, num_classes),\n",
        "            # Final fully connected layer with num_classes output features\n",
        "        )\n",
        "\n",
        "    def forward(self, x):\n",
        "        # Forward pass through the network\n",
        "        x = self.features(x)\n",
        "        # Pass input through convolutional layers\n",
        "        x = self.avgpool(x)\n",
        "         # Apply adaptive average pooling\n",
        "        x = torch.flatten(x, 1)\n",
        "        # Flatten the output for the fully connected layers\n",
        "        x = self.classifier(x)\n",
        "        # Pass through fully connected layers\n",
        "        return x"
      ]
    },
    {
      "cell_type": "code",
      "execution_count": null,
      "metadata": {
        "colab": {
          "base_uri": "https://localhost:8080/",
          "height": 432
        },
        "id": "7fzIutD_1OsI",
        "outputId": "38f69168-09b2-4336-c68a-1c53b1c49ce8"
      },
      "outputs": [
        {
          "data": {
            "image/png": "[encoded data removed]",
            "text/plain": [
              "<Figure size 640x480 with 1 Axes>"
            ]
          },
          "metadata": {},
          "output_type": "display_data"
        }
      ],
      "source": [
        "import torch\n",
        "import matplotlib.pyplot as plt\n",
        "\n",
        "# Assuming you have a sample image tensor\n",
        "image = torch.randn(1, 3, 224, 224)\n",
        "# Random image tensor with shape (batch_size, channels, height, width)\n",
        "\n",
        "def get_activation(name):\n",
        "    def hook(model, input, output):\n",
        "        activation[name] = output.detach()\n",
        "    return hook\n",
        "\n",
        "model = VGG16()\n",
        "activation = {}\n",
        "layer_to_visualize = 10\n",
        "# Choose the layer you want to visualize\n",
        "\n",
        "model.features[layer_to_visualize].register_forward_hook(get_activation('layer_to_visualize'))\n",
        "# Pass input image through the model\n",
        "output = model(image)\n",
        "# Visualize the activation\n",
        "plt.imshow(activation['layer_to_visualize'].squeeze()[0], cmap='viridis')\n",
        "plt.show()\n"
      ]
    }
  ],
  "metadata": {
    "colab": {
      "provenance": []
    },
    "kernelspec": {
      "display_name": "Python 3",
      "name": "python3"
    },
    "language_info": {
      "name": "python"
    }
  },
  "nbformat": 4,
  "nbformat_minor": 0
}