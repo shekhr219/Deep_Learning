{
  "nbformat": 4,
  "nbformat_minor": 0,
  "metadata": {
    "colab": {
      "provenance": [],
      "gpuType": "T4"
    },
    "kernelspec": {
      "name": "python3",
      "display_name": "Python 3"
    },
    "language_info": {
      "name": "python"
    },
    "accelerator": "GPU"
  },
  "cells": [
    {
      "cell_type": "code",
      "source": [
        "pip install tensorflow\n"
      ],
      "metadata": {
        "colab": {
          "base_uri": "https://localhost:8080/"
        },
        "id": "HQSfxt4yGZCe",
        "outputId": "52da11e0-fa00-4c21-f1d9-0f64d088a016"
      },
      "execution_count": null,
      "outputs": [
        {
          "output_type": "stream",
          "name": "stdout",
          "text": [
            "Requirement already satisfied: tensorflow in /usr/local/lib/python3.10/dist-packages (2.15.0)\n",
            "Requirement already satisfied: absl-py>=1.0.0 in /usr/local/lib/python3.10/dist-packages (from tensorflow) (1.4.0)\n",
            "Requirement already satisfied: astunparse>=1.6.0 in /usr/local/lib/python3.10/dist-packages (from tensorflow) (1.6.3)\n",
            "Requirement already satisfied: flatbuffers>=23.5.26 in /usr/local/lib/python3.10/dist-packages (from tensorflow) (24.3.7)\n",
            "Requirement already satisfied: gast!=0.5.0,!=0.5.1,!=0.5.2,>=0.2.1 in /usr/local/lib/python3.10/dist-packages (from tensorflow) (0.5.4)\n",
            "Requirement already satisfied: google-pasta>=0.1.1 in /usr/local/lib/python3.10/dist-packages (from tensorflow) (0.2.0)\n",
            "Requirement already satisfied: h5py>=2.9.0 in /usr/local/lib/python3.10/dist-packages (from tensorflow) (3.9.0)\n",
            "Requirement already satisfied: libclang>=13.0.0 in /usr/local/lib/python3.10/dist-packages (from tensorflow) (16.0.6)\n",
            "Requirement already satisfied: ml-dtypes~=0.2.0 in /usr/local/lib/python3.10/dist-packages (from tensorflow) (0.2.0)\n",
            "Requirement already satisfied: numpy<2.0.0,>=1.23.5 in /usr/local/lib/python3.10/dist-packages (from tensorflow) (1.25.2)\n",
            "Requirement already satisfied: opt-einsum>=2.3.2 in /usr/local/lib/python3.10/dist-packages (from tensorflow) (3.3.0)\n",
            "Requirement already satisfied: packaging in /usr/local/lib/python3.10/dist-packages (from tensorflow) (24.0)\n",
            "Requirement already satisfied: protobuf!=4.21.0,!=4.21.1,!=4.21.2,!=4.21.3,!=4.21.4,!=4.21.5,<5.0.0dev,>=3.20.3 in /usr/local/lib/python3.10/dist-packages (from tensorflow) (3.20.3)\n",
            "Requirement already satisfied: setuptools in /usr/local/lib/python3.10/dist-packages (from tensorflow) (67.7.2)\n",
            "Requirement already satisfied: six>=1.12.0 in /usr/local/lib/python3.10/dist-packages (from tensorflow) (1.16.0)\n",
            "Requirement already satisfied: termcolor>=1.1.0 in /usr/local/lib/python3.10/dist-packages (from tensorflow) (2.4.0)\n",
            "Requirement already satisfied: typing-extensions>=3.6.6 in /usr/local/lib/python3.10/dist-packages (from tensorflow) (4.10.0)\n",
            "Requirement already satisfied: wrapt<1.15,>=1.11.0 in /usr/local/lib/python3.10/dist-packages (from tensorflow) (1.14.1)\n",
            "Requirement already satisfied: tensorflow-io-gcs-filesystem>=0.23.1 in /usr/local/lib/python3.10/dist-packages (from tensorflow) (0.36.0)\n",
            "Requirement already satisfied: grpcio<2.0,>=1.24.3 in /usr/local/lib/python3.10/dist-packages (from tensorflow) (1.62.1)\n",
            "Requirement already satisfied: tensorboard<2.16,>=2.15 in /usr/local/lib/python3.10/dist-packages (from tensorflow) (2.15.2)\n",
            "Requirement already satisfied: tensorflow-estimator<2.16,>=2.15.0 in /usr/local/lib/python3.10/dist-packages (from tensorflow) (2.15.0)\n",
            "Requirement already satisfied: keras<2.16,>=2.15.0 in /usr/local/lib/python3.10/dist-packages (from tensorflow) (2.15.0)\n",
            "Requirement already satisfied: wheel<1.0,>=0.23.0 in /usr/local/lib/python3.10/dist-packages (from astunparse>=1.6.0->tensorflow) (0.43.0)\n",
            "Requirement already satisfied: google-auth<3,>=1.6.3 in /usr/local/lib/python3.10/dist-packages (from tensorboard<2.16,>=2.15->tensorflow) (2.27.0)\n",
            "Requirement already satisfied: google-auth-oauthlib<2,>=0.5 in /usr/local/lib/python3.10/dist-packages (from tensorboard<2.16,>=2.15->tensorflow) (1.2.0)\n",
            "Requirement already satisfied: markdown>=2.6.8 in /usr/local/lib/python3.10/dist-packages (from tensorboard<2.16,>=2.15->tensorflow) (3.5.2)\n",
            "Requirement already satisfied: requests<3,>=2.21.0 in /usr/local/lib/python3.10/dist-packages (from tensorboard<2.16,>=2.15->tensorflow) (2.31.0)\n",
            "Requirement already satisfied: tensorboard-data-server<0.8.0,>=0.7.0 in /usr/local/lib/python3.10/dist-packages (from tensorboard<2.16,>=2.15->tensorflow) (0.7.2)\n",
            "Requirement already satisfied: werkzeug>=1.0.1 in /usr/local/lib/python3.10/dist-packages (from tensorboard<2.16,>=2.15->tensorflow) (3.0.1)\n",
            "Requirement already satisfied: cachetools<6.0,>=2.0.0 in /usr/local/lib/python3.10/dist-packages (from google-auth<3,>=1.6.3->tensorboard<2.16,>=2.15->tensorflow) (5.3.3)\n",
            "Requirement already satisfied: pyasn1-modules>=0.2.1 in /usr/local/lib/python3.10/dist-packages (from google-auth<3,>=1.6.3->tensorboard<2.16,>=2.15->tensorflow) (0.3.0)\n",
            "Requirement already satisfied: rsa<5,>=3.1.4 in /usr/local/lib/python3.10/dist-packages (from google-auth<3,>=1.6.3->tensorboard<2.16,>=2.15->tensorflow) (4.9)\n",
            "Requirement already satisfied: requests-oauthlib>=0.7.0 in /usr/local/lib/python3.10/dist-packages (from google-auth-oauthlib<2,>=0.5->tensorboard<2.16,>=2.15->tensorflow) (1.4.0)\n",
            "Requirement already satisfied: charset-normalizer<4,>=2 in /usr/local/lib/python3.10/dist-packages (from requests<3,>=2.21.0->tensorboard<2.16,>=2.15->tensorflow) (3.3.2)\n",
            "Requirement already satisfied: idna<4,>=2.5 in /usr/local/lib/python3.10/dist-packages (from requests<3,>=2.21.0->tensorboard<2.16,>=2.15->tensorflow) (3.6)\n",
            "Requirement already satisfied: urllib3<3,>=1.21.1 in /usr/local/lib/python3.10/dist-packages (from requests<3,>=2.21.0->tensorboard<2.16,>=2.15->tensorflow) (2.0.7)\n",
            "Requirement already satisfied: certifi>=2017.4.17 in /usr/local/lib/python3.10/dist-packages (from requests<3,>=2.21.0->tensorboard<2.16,>=2.15->tensorflow) (2024.2.2)\n",
            "Requirement already satisfied: MarkupSafe>=2.1.1 in /usr/local/lib/python3.10/dist-packages (from werkzeug>=1.0.1->tensorboard<2.16,>=2.15->tensorflow) (2.1.5)\n",
            "Requirement already satisfied: pyasn1<0.6.0,>=0.4.6 in /usr/local/lib/python3.10/dist-packages (from pyasn1-modules>=0.2.1->google-auth<3,>=1.6.3->tensorboard<2.16,>=2.15->tensorflow) (0.5.1)\n",
            "Requirement already satisfied: oauthlib>=3.0.0 in /usr/local/lib/python3.10/dist-packages (from requests-oauthlib>=0.7.0->google-auth-oauthlib<2,>=0.5->tensorboard<2.16,>=2.15->tensorflow) (3.2.2)\n"
          ]
        }
      ]
    },
    {
      "cell_type": "code",
      "source": [
        "import tensorflow as tf\n",
        "from tensorflow.keras import layers, models\n",
        "from tensorflow.keras.datasets import cifar10\n",
        "from tensorflow.keras.utils import to_categorical\n",
        "\n",
        "# Loading CIFAR-10 dataset\n",
        "(x_train, y_train), (x_test, y_test) = cifar10.load_data()\n",
        "x_train, x_test = x_train / 255.0, x_test / 255.0\n",
        "y_train, y_test = to_categorical(y_train), to_categorical(y_test)\n",
        "\n",
        "# Define Inception Module\n",
        "# A 1x1 convolutional layer (conv1x1) that helps in local pattern recognition.\n",
        "# Another pathway begins with a 1x1 convolution (conv1x1_3x3), followed by a deeper 3x3 convolution (conv3x3).\n",
        "# This combination helps reduce dimensionality initially and then does a deeper analysis, allowing the network to capture more complicated patterns.\n",
        "# Similarly, a third pathway enables the network to capture greater spatial patterns by beginning with a 1x1 convolution (conv1x1_5x5)\n",
        "# and ending with a 5x5 convolution (conv5x5). To further capture the most important characteristics throughout the input,\n",
        "# a max-pooling operation is used together with a subsequent 1x1 convolution (maxpool3x3 and maxpool1x1).\n",
        "def inception_module(x, filters):\n",
        "    conv1x1 = layers.Conv2D(filters[0], (1,1), padding='same', activation='relu')(x)\n",
        "\n",
        "    conv1x1_3x3 = layers.Conv2D(filters[1], (1,1), padding='same', activation='relu')(x)\n",
        "    conv3x3 = layers.Conv2D(filters[2], (3,3), padding='same', activation='relu')(conv1x1_3x3)\n",
        "\n",
        "    conv1x1_5x5 = layers.Conv2D(filters[3], (1,1), padding='same', activation='relu')(x)\n",
        "    conv5x5 = layers.Conv2D(filters[4], (5,5), padding='same', activation='relu')(conv1x1_5x5)\n",
        "\n",
        "    maxpool3x3 = layers.MaxPooling2D((3,3), strides=(1,1), padding='same')(x)\n",
        "    maxpool1x1 = layers.Conv2D(filters[5], (1,1), padding='same', activation='relu')(maxpool3x3)\n",
        "\n",
        "    output = layers.concatenate([conv1x1, conv3x3, conv5x5, maxpool1x1], axis=-1)\n",
        "    return output\n",
        "\n",
        "# Build VGG-16 with Inception module\n",
        "def vgg16_with_inception():\n",
        "    input_layer = layers.Input(shape=(32, 32, 3))\n",
        "\n",
        "    x = layers.Conv2D(64, (3, 3), padding='same', activation='relu')(input_layer)\n",
        "    x = inception_module(x, [64, 96, 128, 16, 32, 32])\n",
        "    x = layers.MaxPooling2D((2, 2), strides=(2, 2))(x)\n",
        "\n",
        "    x = layers.Conv2D(128, (3, 3), padding='same', activation='relu')(x)\n",
        "    x = inception_module(x, [128, 128, 192, 32, 96, 64])\n",
        "    x = layers.MaxPooling2D((2, 2), strides=(2, 2))(x)\n",
        "\n",
        "    x = layers.Conv2D(256, (3, 3), padding='same', activation='relu')(x)\n",
        "    x = layers.Conv2D(256, (3, 3), padding='same', activation='relu')(x)\n",
        "    x = inception_module(x, [192, 96, 208, 16, 48, 64])\n",
        "    x = layers.MaxPooling2D((2, 2), strides=(2, 2))(x)\n",
        "\n",
        "    x = layers.Flatten()(x)\n",
        "    x = layers.Dense(512, activation='relu')(x)\n",
        "    output_layer = layers.Dense(10, activation='softmax')(x)\n",
        "\n",
        "    model = models.Model(inputs=input_layer, outputs=output_layer)\n",
        "    return model\n",
        "\n",
        "# Instantiate model\n",
        "model = vgg16_with_inception()\n",
        "\n",
        "# Compiling model\n",
        "model.compile(optimizer='adam', loss='categorical_crossentropy', metrics=['accuracy'])\n",
        "\n",
        "# Training  model\n",
        "history = model.fit(x_train, y_train, epochs=20, batch_size=64, validation_data=(x_test, y_test))\n",
        "\n",
        "# Evaluating model\n",
        "test_loss, test_acc = model.evaluate(x_test, y_test)\n",
        "print(\"Test Accuracy:\", test_acc)\n",
        "\n",
        "# Plot training history\n",
        "import matplotlib.pyplot as plt\n",
        "\n",
        "plt.plot(history.history['accuracy'], label='accuracy')\n",
        "plt.plot(history.history['val_accuracy'], label = 'val_accuracy')\n",
        "plt.xlabel('Epoch')\n",
        "plt.ylabel('Accuracy')\n",
        "plt.ylim([0, 1])\n",
        "plt.legend(loc='lower right')\n",
        "plt.show()\n"
      ],
      "metadata": {
        "colab": {
          "base_uri": "https://localhost:8080/",
          "height": 1000
        },
        "id": "8pJKz6XnjuqC",
        "outputId": "f9b0ebfe-8ef3-4d5e-d8fb-8eacf0019eab"
      },
      "execution_count": null,
      "outputs": [
        {
          "output_type": "stream",
          "name": "stdout",
          "text": [
            "Epoch 1/20\n",
            "782/782 [==============================] - 48s 48ms/step - loss: 1.7260 - accuracy: 0.3539 - val_loss: 1.2906 - val_accuracy: 0.5290\n",
            "Epoch 2/20\n",
            "782/782 [==============================] - 35s 45ms/step - loss: 1.1418 - accuracy: 0.5921 - val_loss: 1.0857 - val_accuracy: 0.6174\n",
            "Epoch 3/20\n",
            "782/782 [==============================] - 35s 45ms/step - loss: 0.9078 - accuracy: 0.6762 - val_loss: 0.8914 - val_accuracy: 0.6852\n",
            "Epoch 4/20\n",
            "782/782 [==============================] - 35s 45ms/step - loss: 0.7696 - accuracy: 0.7270 - val_loss: 0.8657 - val_accuracy: 0.6988\n",
            "Epoch 5/20\n",
            "782/782 [==============================] - 34s 44ms/step - loss: 0.6584 - accuracy: 0.7690 - val_loss: 0.7655 - val_accuracy: 0.7395\n",
            "Epoch 6/20\n",
            "782/782 [==============================] - 35s 44ms/step - loss: 0.5678 - accuracy: 0.7978 - val_loss: 0.7668 - val_accuracy: 0.7407\n",
            "Epoch 7/20\n",
            "782/782 [==============================] - 34s 44ms/step - loss: 0.4838 - accuracy: 0.8266 - val_loss: 0.7569 - val_accuracy: 0.7456\n",
            "Epoch 8/20\n",
            "782/782 [==============================] - 35s 45ms/step - loss: 0.4056 - accuracy: 0.8545 - val_loss: 0.8047 - val_accuracy: 0.7520\n",
            "Epoch 9/20\n",
            "782/782 [==============================] - 35s 45ms/step - loss: 0.3243 - accuracy: 0.8853 - val_loss: 0.8698 - val_accuracy: 0.7491\n",
            "Epoch 10/20\n",
            "782/782 [==============================] - 35s 45ms/step - loss: 0.2765 - accuracy: 0.9020 - val_loss: 0.8975 - val_accuracy: 0.7477\n",
            "Epoch 11/20\n",
            "782/782 [==============================] - 36s 46ms/step - loss: 0.2285 - accuracy: 0.9189 - val_loss: 1.0752 - val_accuracy: 0.7397\n",
            "Epoch 12/20\n",
            "782/782 [==============================] - 35s 44ms/step - loss: 0.1958 - accuracy: 0.9300 - val_loss: 1.0836 - val_accuracy: 0.7366\n",
            "Epoch 13/20\n",
            "782/782 [==============================] - 35s 45ms/step - loss: 0.1667 - accuracy: 0.9412 - val_loss: 1.1426 - val_accuracy: 0.7521\n",
            "Epoch 14/20\n",
            "782/782 [==============================] - 35s 44ms/step - loss: 0.1546 - accuracy: 0.9452 - val_loss: 1.2069 - val_accuracy: 0.7492\n",
            "Epoch 15/20\n",
            "782/782 [==============================] - 35s 44ms/step - loss: 0.1411 - accuracy: 0.9509 - val_loss: 1.3048 - val_accuracy: 0.7462\n",
            "Epoch 16/20\n",
            "782/782 [==============================] - 34s 44ms/step - loss: 0.1304 - accuracy: 0.9541 - val_loss: 1.4338 - val_accuracy: 0.7476\n",
            "Epoch 17/20\n",
            "782/782 [==============================] - 34s 44ms/step - loss: 0.1286 - accuracy: 0.9547 - val_loss: 1.3187 - val_accuracy: 0.7531\n",
            "Epoch 18/20\n",
            "782/782 [==============================] - 35s 45ms/step - loss: 0.1185 - accuracy: 0.9600 - val_loss: 1.4370 - val_accuracy: 0.7365\n",
            "Epoch 19/20\n",
            "782/782 [==============================] - 34s 44ms/step - loss: 0.1141 - accuracy: 0.9617 - val_loss: 1.3732 - val_accuracy: 0.7549\n",
            "Epoch 20/20\n",
            "782/782 [==============================] - 35s 44ms/step - loss: 0.1065 - accuracy: 0.9640 - val_loss: 1.3756 - val_accuracy: 0.7531\n",
            "313/313 [==============================] - 4s 9ms/step - loss: 1.3756 - accuracy: 0.7531\n",
            "Test Accuracy: 0.7530999779701233\n"
          ]
        },
        {
          "output_type": "display_data",
          "data": {
            "text/plain": [
              "<Figure size 640x480 with 1 Axes>"
            ],
            "image/png": "[encoded data removed]"
          },
          "metadata": {}
        }
      ]
    },
    {
      "cell_type": "markdown",
      "source": [
        "**Analysis**\n",
        "\n",
        "Training:\n",
        "\n",
        "VGG16: Easier to train due to its simpler architecture. Hyperparameter tuning is not crucial.\n",
        "\n",
        "VGG16 with Inception Module: Training might take longer due to the increased complexity of the model. Hyperparameter tuning is crucial.\n",
        "\n",
        "Performance:\n",
        "\n",
        "VGG16 is generally faster to train and requires less memory due to its simpler structure.\n",
        "\n",
        "VGG16 with Inception Module achieves higher accuracy on image classification tasks, especially for smaller datasets like CIFAR-10, due to the ability of inception modules to extract more diverse features.\n",
        "\n",
        "Overfitting:\n",
        "\n",
        "VGG16 with inception modules might be more prone to overfitting on smaller datasets due to the increased number of parameters. Regularization techniques like dropout or L1/L2 regularization become more important"
      ],
      "metadata": {
        "id": "fsqBiD8DnFPm"
      }
    }
  ]
}